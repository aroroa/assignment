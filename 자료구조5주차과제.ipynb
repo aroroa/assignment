{
  "nbformat": 4,
  "nbformat_minor": 0,
  "metadata": {
    "colab": {
      "provenance": []
    },
    "kernelspec": {
      "name": "python3",
      "display_name": "Python 3"
    },
    "language_info": {
      "name": "python"
    }
  },
  "cells": [
    {
      "cell_type": "markdown",
      "source": [
        "#1. LeetCode 225. Implement Stack using Queues\n"
      ],
      "metadata": {
        "id": "9Wewp9w6ikpy"
      }
    },
    {
      "cell_type": "code",
      "source": [
        "from collections import deque\n",
        "class MyStack(object):\n",
        "\n",
        "    def __init__(self):\n",
        "        self.q = deque()\n",
        "\n",
        "\n",
        "    def push(self, x):\n",
        "        self.q.append(x)\n",
        "        for _ in range(len(self.q) - 1):\n",
        "            self.q.append(self.q.popleft())\n",
        "\n",
        "\n",
        "    def pop(self):\n",
        "        return self.q.popleft()\n",
        "\n",
        "\n",
        "    def top(self):\n",
        "        return self.q[0]\n",
        "\n",
        "\n",
        "    def empty(self):\n",
        "        return not self.q"
      ],
      "metadata": {
        "id": "02xUIjvzihgE"
      },
      "execution_count": null,
      "outputs": []
    },
    {
      "cell_type": "markdown",
      "source": [
        "#2. LeetCode 232. Implement Queue using Stacks"
      ],
      "metadata": {
        "id": "X_T4i-SEjGZG"
      }
    },
    {
      "cell_type": "code",
      "source": [
        "class MyQueue(object):\n",
        "\n",
        "    def __init__(self):\n",
        "        self.in_stack = []\n",
        "        self.out_stack = []\n",
        "\n",
        "\n",
        "    def push(self, x):\n",
        "        self.in_stack.append(x)\n",
        "\n",
        "    def pop(self):\n",
        "        self.peek()\n",
        "        return self.out_stack.pop()\n",
        "\n",
        "\n",
        "    def peek(self):\n",
        "        if not self.out_stack:\n",
        "            while self.in_stack:\n",
        "                self.out_stack.append(self.in_stack.pop())\n",
        "        return self.out_stack[-1]\n",
        "\n",
        "\n",
        "\n",
        "    def empty(self):\n",
        "        return not self.in_stack and not self.out_stack"
      ],
      "metadata": {
        "id": "HEEtl49FjKtF"
      },
      "execution_count": null,
      "outputs": []
    },
    {
      "cell_type": "markdown",
      "source": [
        "#3. 교재의 큐 연습문제 전부"
      ],
      "metadata": {
        "id": "IHCWad6Hm_LC"
      }
    },
    {
      "cell_type": "markdown",
      "source": [
        "###1번"
      ],
      "metadata": {
        "id": "Esp1yhYoo4as"
      }
    },
    {
      "cell_type": "code",
      "source": [
        "class ListQueue:\n",
        "    def __init__(self):\n",
        "        self.__queue = []\n",
        "\n",
        "    def enqueue(self, x):\n",
        "        self.__queue.insert(0, x)  # 앞에 삽입\n",
        "\n",
        "    def dequeue(self):\n",
        "        return self.__queue.pop()  # 맨 뒤에서 제거\n",
        "\n",
        "    def front(self):\n",
        "        return self.__queue[-1]\n",
        "\n",
        "    def isEmpty(self):\n",
        "        return len(self.__queue) == 0\n",
        "\n",
        "    def dequeueAll(self):\n",
        "        self.__queue.clear()"
      ],
      "metadata": {
        "id": "UBcXVdj3o8vc"
      },
      "execution_count": null,
      "outputs": []
    },
    {
      "cell_type": "markdown",
      "source": [
        "###2번"
      ],
      "metadata": {
        "id": "vkw3f65RpUKT"
      }
    },
    {
      "cell_type": "code",
      "source": [
        "def isWSW(string):\n",
        "    q = []\n",
        "    for ch in string:\n",
        "        if ch == 'S':\n",
        "            break\n",
        "        q.append(ch)\n",
        "\n",
        "    i = len(q) + 1\n",
        "    while i < len(string):\n",
        "        if not q or string[i] != q.pop():\n",
        "            return False\n",
        "        i += 1\n",
        "    return not q"
      ],
      "metadata": {
        "id": "KFEhHXoSpVa2"
      },
      "execution_count": null,
      "outputs": []
    },
    {
      "cell_type": "markdown",
      "source": [
        "###3번"
      ],
      "metadata": {
        "id": "GlDDOl7mpcke"
      }
    },
    {
      "cell_type": "code",
      "source": [
        "def copyLinkedQueue(A):\n",
        "    B = LinkedQueue()\n",
        "    cur = A.head\n",
        "    while cur is not None:\n",
        "        B.enqueue(cur.data)\n",
        "        cur = cur.link\n",
        "    return B"
      ],
      "metadata": {
        "id": "3t-jHPyXpdxF"
      },
      "execution_count": null,
      "outputs": []
    },
    {
      "cell_type": "markdown",
      "source": [
        "###4번"
      ],
      "metadata": {
        "id": "Fa6vkMEpph0_"
      }
    },
    {
      "cell_type": "code",
      "source": [
        "class StackUsingQueues:\n",
        "    def __init__(self):\n",
        "        self.q1 = []\n",
        "        self.q2 = []\n",
        "\n",
        "    def push(self, x):\n",
        "        self.q2.append(x)\n",
        "        while self.q1:\n",
        "            self.q2.append(self.q1.pop(0))\n",
        "        self.q1, self.q2 = self.q2, self.q1\n",
        "\n",
        "    def pop(self):\n",
        "        return self.q1.pop(0)"
      ],
      "metadata": {
        "id": "R7xERBiUpjq3"
      },
      "execution_count": null,
      "outputs": []
    },
    {
      "cell_type": "markdown",
      "source": [
        "###5번"
      ],
      "metadata": {
        "id": "JAYSEHnCprHZ"
      }
    },
    {
      "cell_type": "code",
      "source": [
        "class QueueUsingStacks:\n",
        "    def __init__(self):\n",
        "        self.s1 = []\n",
        "        self.s2 = []\n",
        "\n",
        "    def enqueue(self, x):\n",
        "        self.s1.append(x)\n",
        "\n",
        "    def dequeue(self):\n",
        "        if not self.s2:\n",
        "            while self.s1:\n",
        "                self.s2.append(self.s1.pop())\n",
        "        return self.s2.pop()"
      ],
      "metadata": {
        "id": "yZ5F3T41psfq"
      },
      "execution_count": null,
      "outputs": []
    },
    {
      "cell_type": "markdown",
      "source": [
        "###6번\n",
        "enqueue() 시 맨 뒤에 노드 추가->Θ(1)\n",
        "\n",
        "dequeue() 시 맨 앞 노드 제거->Θ(1)"
      ],
      "metadata": {
        "id": "qB34ssexr4Rr"
      }
    },
    {
      "cell_type": "markdown",
      "source": [
        "###7번\n",
        "enqueue() -> 끝 노드를 찾기 위해 head부터 순회 -> Θ(n)  \n",
        "dequeue() -> 더미 헤드 뒤 노드 제거 -> Θ(1)\n"
      ],
      "metadata": {
        "id": "5nAUhlP58wTN"
      }
    },
    {
      "cell_type": "markdown",
      "source": [
        "###8번"
      ],
      "metadata": {
        "id": "r7-khNZr_yhE"
      }
    },
    {
      "cell_type": "code",
      "source": [
        "class Deque:\n",
        "    def __init__(self):\n",
        "        self.__queue = []\n",
        "\n",
        "    def addFront(self, x):\n",
        "        self.__queue.insert(0, x)\n",
        "\n",
        "    def addRear(self, x):\n",
        "        self.__queue.append(x)\n",
        "\n",
        "    def deleteFront(self):\n",
        "        return self.__queue.pop(0)\n",
        "\n",
        "    def deleteRear(self):\n",
        "        return self.__queue.pop()\n",
        "\n",
        "    def isEmpty(self):\n",
        "        return len(self.__queue) == 0\n",
        "\n",
        "    def clear(self):\n",
        "        self.__queue.clear()\n",
        "\n",
        "    def printQueue(self):\n",
        "        print(\"Queue from front:\", end=' ')\n",
        "        for item in self.__queue:\n",
        "            print(item, end=' ')\n",
        "        print()"
      ],
      "metadata": {
        "id": "cR8VIjb7_0tO"
      },
      "execution_count": null,
      "outputs": []
    }
  ]
}